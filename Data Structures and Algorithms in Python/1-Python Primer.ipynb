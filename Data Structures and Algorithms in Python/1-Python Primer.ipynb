{
 "cells": [
  {
   "cell_type": "markdown",
   "metadata": {},
   "source": [
    "# 1.12 Exercises\n",
    "For help with exercises, please visit the [site](www.wiley.com/college/goodrich) ,\n",
    "\n",
    "### Reinforcement\n",
    "\n",
    "__R-1.1__ Write a short Python function, is multiple(n, m), that takes two integer values and returns True if n is a multiple of m, that is, n = mi for some integer i, and False otherwise."
   ]
  },
  {
   "cell_type": "code",
   "execution_count": 1,
   "metadata": {},
   "outputs": [],
   "source": [
    "def multiple(n: int, m: int):\n",
    "    return n / m == n // m\n",
    "\n",
    "assert multiple(10,5)\n",
    "assert not multiple(5,4)\n",
    "assert not multiple(7,98)\n",
    "assert not multiple(49,5)\n",
    "assert multiple(81,27)"
   ]
  }
 ],
 "metadata": {
  "kernelspec": {
   "display_name": "Python 3",
   "language": "python",
   "name": "python3"
  },
  "language_info": {
   "codemirror_mode": {
    "name": "ipython",
    "version": 3
   },
   "file_extension": ".py",
   "mimetype": "text/x-python",
   "name": "python",
   "nbconvert_exporter": "python",
   "pygments_lexer": "ipython3",
   "version": "3.8.3"
  }
 },
 "nbformat": 4,
 "nbformat_minor": 4
}
