{
 "cells": [
  {
   "cell_type": "markdown",
   "metadata": {},
   "source": [
    "# 46 Simple Python Exercises (Solutions)"
   ]
  },
  {
   "cell_type": "markdown",
   "metadata": {},
   "source": [
    "### 1- Define a function `max()`  that takes two numbers as arguments and returns the largest of them. Use the if-then-else construct available in Python. (It is true that Python has the `max()`  function built in, but writing it yourself is nevertheless a good exercise.)"
   ]
  },
  {
   "cell_type": "code",
   "execution_count": 1,
   "metadata": {},
   "outputs": [],
   "source": [
    "def max_1(x,y):\n",
    "    return x if x >=y else y\n",
    "\n",
    "def max_2(x,y):\n",
    "    if x >= y:\n",
    "        return x\n",
    "    return y\n",
    "\n",
    "assert max_1(12,56) == 56\n",
    "assert max_2(12,56) == 56"
   ]
  },
  {
   "cell_type": "markdown",
   "metadata": {},
   "source": [
    "### 2- Define a function `max_of_three()`  that takes three numbers as arguments and returns the largest of them."
   ]
  },
  {
   "cell_type": "code",
   "execution_count": 2,
   "metadata": {},
   "outputs": [],
   "source": [
    "def max_of_three_1(x,y,z):\n",
    "    return max(x, max(y,z))\n",
    "\n",
    "def max_of_three_2(x,y,z):\n",
    "    maximum = x\n",
    "    if y > maximum:\n",
    "        maximum = y\n",
    "    if z > maximum:\n",
    "        maximum = z\n",
    "    return maximum\n",
    "\n",
    "assert max_of_three_1(10,87,23) == 87\n",
    "assert max_of_three_1(97,82,3) == 97\n",
    "\n",
    "assert max_of_three_2(10,87,23) == 87\n",
    "assert max_of_three_2(97,82,3) == 97"
   ]
  },
  {
   "cell_type": "markdown",
   "metadata": {},
   "source": [
    "### 3- Define a function that computes the length of a given list or string. (It is true that Python has the `len()` function built in, but writing it yourself is nevertheless a good exercise.)"
   ]
  },
  {
   "cell_type": "code",
   "execution_count": 3,
   "metadata": {},
   "outputs": [],
   "source": [
    "def length(l):\n",
    "    count = 0\n",
    "    for element in l:\n",
    "        count += 1\n",
    "    return count\n",
    "\n",
    "assert length([1,2,3,4]) == 4\n",
    "assert length([]) == 0\n",
    "assert length([34,56,23,66,5435,3,43254,5,6456]) == 9\n",
    "assert length(['aa', 'bb','c']) == 3"
   ]
  },
  {
   "cell_type": "markdown",
   "metadata": {},
   "source": [
    "### 4. Write a function that takes a character (i.e. a string of length 1) and returns True  if it is a vowel, False otherwise."
   ]
  },
  {
   "cell_type": "code",
   "execution_count": 4,
   "metadata": {},
   "outputs": [],
   "source": [
    "def is_vowel(s):\n",
    "    if len(s) > 1:\n",
    "        raise Exception(\"Error: The input is a string. It should be a character.\")\n",
    "    elif len(s) == 0:\n",
    "        raise Exception(\"Error: Empty input.\")\n",
    "    vowels = 'aeiou'\n",
    "    return s in vowels\n",
    "    \n",
    "assert is_vowel(\"b\") == False\n",
    "assert is_vowel(\"c\") == False\n",
    "assert is_vowel(\"a\") == True"
   ]
  },
  {
   "cell_type": "markdown",
   "metadata": {},
   "source": [
    "### 5. Write a function `translate()`  that will translate a text into \"rövarspråket\" (Swedish for \"robber's language\"). That is, double every consonant and place an occurrence of \"o\"  in between. For example, translate(\"this is fun\")  should return the string \"tothohisos isos fofunon\" ."
   ]
  },
  {
   "cell_type": "code",
   "execution_count": 5,
   "metadata": {},
   "outputs": [],
   "source": [
    "def translate(s):\n",
    "    words = s.split()\n",
    "    result = \"\"\n",
    "    for word in words:\n",
    "        for letter in word:\n",
    "            result += (letter + \"o\" + letter) if not is_vowel(letter) else letter\n",
    "        result += \" \"\n",
    "    return result.strip()\n",
    "\n",
    "assert translate(\"this is fun\") == \"tothohisos isos fofunon\""
   ]
  },
  {
   "cell_type": "markdown",
   "metadata": {},
   "source": [
    "### 6. Define a function `sum()`  and a function `multiply()`  that sums and multiplies (respectively) all the numbers in a list of numbers. For example, sum([1, 2, 3, 4]) should return 10 , and multiply([1, 2, 3, 4])  should return 24 ."
   ]
  },
  {
   "cell_type": "code",
   "execution_count": 6,
   "metadata": {},
   "outputs": [],
   "source": [
    "def sum_list(l):\n",
    "    result = 0\n",
    "    for element in l:\n",
    "        result += element\n",
    "    return result\n",
    "\n",
    "def multiply_list(l):\n",
    "    result = 1\n",
    "    for element in l:\n",
    "        result *= element\n",
    "    return result\n",
    "\n",
    "assert sum_list([1,2,3,4]) == 10\n",
    "assert multiply_list([1,2,3,4]) == 24"
   ]
  },
  {
   "cell_type": "markdown",
   "metadata": {},
   "source": [
    "### 7. Define a function `reverse()`  that computes the reversal of a string. For example, reverse(\"I am testing\")  should return the string \"gnitset ma I\" ."
   ]
  },
  {
   "cell_type": "code",
   "execution_count": 7,
   "metadata": {},
   "outputs": [],
   "source": [
    "def reverse(s):\n",
    "    result = \"\"\n",
    "    for i in range(len(s)-1, -1, -1):\n",
    "        result += s[i]\n",
    "    return result\n",
    "        \n",
    "assert reverse(\"I am testing\") == \"gnitset ma I\"\n",
    "assert reverse(\"abcd\") == \"dcba\""
   ]
  },
  {
   "cell_type": "markdown",
   "metadata": {},
   "source": [
    "### 8. Define a function `is_palindrome()`  that recognizes palindromes (i.e. words that look the same written backwards). For example, is_palindrome(\"radar\")  should return True ."
   ]
  },
  {
   "cell_type": "code",
   "execution_count": 8,
   "metadata": {},
   "outputs": [],
   "source": [
    "def reverse(s):\n",
    "    result = \"\"\n",
    "    for i in range(len(s)-1, -1, -1):\n",
    "        result += s[i]\n",
    "    return result\n",
    "\n",
    "def is_palindrome(s):\n",
    "    return s == reverse(s)\n",
    "\n",
    "assert is_palindrome(\"radar\") == True"
   ]
  },
  {
   "cell_type": "markdown",
   "metadata": {},
   "source": [
    "### 9. Write a function `is_member()`  that takes a value (i.e. a number, string, etc) x  and a list of values a , and returns True  if x  is a member of a , False  otherwise. (Note that this is exactly what the in  operator does, but for the sake of the exercise you should pretend Python did not have this operator.)"
   ]
  },
  {
   "cell_type": "code",
   "execution_count": 9,
   "metadata": {},
   "outputs": [],
   "source": [
    "def is_member(x:int, a:list):\n",
    "    for e in a:\n",
    "        if e == x:\n",
    "            return True\n",
    "    return False\n",
    "\n",
    "assert is_member(12, [32,14,67,564]) == False\n",
    "assert is_member(12, [32,14,12,67,564]) == True"
   ]
  },
  {
   "cell_type": "markdown",
   "metadata": {},
   "source": [
    "### 10. Define a function `overlapping()`  that takes two lists and returns True if they have at least one member in common, False otherwise. You may use your is_member()  function, or the in  operator, but for the sake of the exercise, you should (also) write it using two nested for-loops."
   ]
  },
  {
   "cell_type": "code",
   "execution_count": 10,
   "metadata": {},
   "outputs": [],
   "source": [
    "def overlapping_1(l1,l2):\n",
    "    for e1 in l1:\n",
    "        if is_member(e1,l2):\n",
    "            return True\n",
    "    return False\n",
    "\n",
    "def overlapping_2(l1,l2):\n",
    "    for e1 in l1:\n",
    "        for e2 in l2:\n",
    "            if e1 == e2:\n",
    "                return True\n",
    "    return False\n",
    "\n",
    "assert overlapping_1([1,2,3],[4,5]) == False\n",
    "assert overlapping_2([1,2,3],[4,5]) == False\n",
    "assert overlapping_1([1,2,4,6,7],[4,5,7]) == True\n",
    "assert overlapping_2([1,2,4,6,7],[4,5,7]) == True\n",
    "assert overlapping_1([],[]) == False\n",
    "assert overlapping_2([],[]) == False"
   ]
  },
  {
   "cell_type": "markdown",
   "metadata": {},
   "source": [
    "### 11. Define a function `generate_n_chars()` that takes an integer `n` and a character `c` and returns a string, n characters long, consisting only of c:s. For example, `generate_n_chars(5,\"x\")` should return the string \"xxxxx\". (Python is unusual in that you can actually write an expression 5 * \"x\"that will evaluate to \"xxxxx\". For the sake of the exercise you should ignore that the problem can be solved in this manner.)"
   ]
  },
  {
   "cell_type": "code",
   "execution_count": 11,
   "metadata": {},
   "outputs": [],
   "source": [
    "def generate_n_chars(n:int, c):\n",
    "    if len(c) > 1:\n",
    "        raise Exception(\"Error: The input is a string. It should be a character.\")\n",
    "    if int(n)!=n or n<=0:\n",
    "        raise Excpetion(\"Error: n must be a positive integer.\")\n",
    "    result = \"\"\n",
    "    for _ in range(n):\n",
    "        result += c\n",
    "    return result\n",
    "\n",
    "assert generate_n_chars(5,\"x\") == \"xxxxx\""
   ]
  },
  {
   "cell_type": "markdown",
   "metadata": {},
   "source": [
    "### 12. Define a procedure `histogram()` that takes a list of integers and prints a histogram to the screen. For example, `histogram([4 ,9, 7])` should print the following:\n",
    "\n",
    ">\\*\\*\\*\\* <br>\n",
    "\\*\\*\\*\\*\\*\\*\\*\\*\\* <br>\n",
    "\\*\\*\\*\\*\\*\\*\\*"
   ]
  },
  {
   "cell_type": "code",
   "execution_count": 12,
   "metadata": {},
   "outputs": [
    {
     "name": "stdout",
     "output_type": "stream",
     "text": [
      "****\n",
      "*********\n",
      "*******\n"
     ]
    }
   ],
   "source": [
    "def histogram(l):\n",
    "    for e in l:\n",
    "        for _ in range(e):\n",
    "            print(\"*\", end=\"\")\n",
    "        print(\"\")\n",
    "        \n",
    "histogram([4 ,9, 7])"
   ]
  },
  {
   "cell_type": "markdown",
   "metadata": {},
   "source": [
    "### 13. The function `max()` from exercise 1) and the function `max_of_three()` from exercise 2) will only work for two and three numbers, respectively. But suppose we have a much larger number of numbers, or suppose we cannot tell in advance how many they are? Write a function `max_in_list()` that takes a list of numbers and returns the largest one."
   ]
  },
  {
   "cell_type": "code",
   "execution_count": 13,
   "metadata": {},
   "outputs": [],
   "source": [
    "def max_in_list(l):\n",
    "    if len(l) == 0:\n",
    "        return\n",
    "    maximum = l[0]\n",
    "    for e in l:\n",
    "        if e > maximum:\n",
    "            maximum = e\n",
    "    return maximum\n",
    "\n",
    "assert max_in_list([]) == None\n",
    "assert max_in_list([34,3,65,22]) == 65\n",
    "assert max_in_list([456,23,7643,6778,33,85498]) == 85498"
   ]
  },
  {
   "cell_type": "markdown",
   "metadata": {},
   "source": [
    "### 14. Write a program that maps a list of words into a list of integers representing the lengths of the correponding words."
   ]
  },
  {
   "cell_type": "code",
   "execution_count": 14,
   "metadata": {},
   "outputs": [],
   "source": [
    "def length_list_1(word_list):\n",
    "    return list(map(len, word_list)) # Applying len() function to all the elements of the word list.\n",
    "    \n",
    "def length_list_2(word_list):\n",
    "    ret_list = []\n",
    "    for word in word_list:\n",
    "        ret_list.append(len(word))\n",
    "    return ret_list\n",
    "\n",
    "assert length_list_1([\"a\",\"aa\",\"aaa\"]) == [1,2,3]\n",
    "assert length_list_2([\"a\",\"aa\",\"aaa\"]) == [1,2,3]\n",
    "\n",
    "assert length_list_1([\"aaaa\",\"a\",\"aaaaaa\",\"aa\"]) == [4,1,6,2]\n",
    "assert length_list_2([\"aaaa\",\"a\",\"aaaaaa\",\"aa\"]) == [4,1,6,2]"
   ]
  },
  {
   "cell_type": "markdown",
   "metadata": {},
   "source": [
    "### 15. Write a function `find_longest_word()` that takes a list of words and returns the length of the longest one."
   ]
  },
  {
   "cell_type": "code",
   "execution_count": 15,
   "metadata": {},
   "outputs": [],
   "source": [
    "def find_longest_word(l):\n",
    "    return max(list(map(len,l)))\n",
    "\n",
    "assert find_longest_word([\"a\",\"aa\",\"aaa\"]) == 3\n",
    "assert find_longest_word([\"aaaa\",\"a\",\"aaaaaa\",\"aa\"]) == 6"
   ]
  },
  {
   "cell_type": "markdown",
   "metadata": {},
   "source": [
    "### 16. Write a function `filter_long_words()` that takes a list of words and an integer n and returns the list of words that are longer than n."
   ]
  },
  {
   "cell_type": "code",
   "execution_count": 16,
   "metadata": {},
   "outputs": [],
   "source": [
    "def filter_long_words(l:list, n:int):\n",
    "    return [e for e in l if len(e) > n]\n",
    "\n",
    "assert filter_long_words(['bbbb','a','aaa','aaaaa','aaaaaaa'], 3) == ['bbbb', 'aaaaa', 'aaaaaaa']"
   ]
  },
  {
   "cell_type": "markdown",
   "metadata": {},
   "source": [
    "### 17. Write a version of a palindrome recognizer that also accepts phrase palindromes such as \"Go hang a salami I'm a lasagna hog.\", \"Was it a rat I saw?\", \"Step on no pets\", \"Sit on a potato pan, Otis\", \"Lisa Bonet ate no basil\", \"Satan, oscillate my metallic sonatas\", \"I roamed under it as a tired nude Maori\", \"Rise to vote sir\", or the exclamation \"Dammit, I'm mad!\". Note that punctuation, capitalization, and spacing are usually ignored."
   ]
  },
  {
   "cell_type": "code",
   "execution_count": 17,
   "metadata": {},
   "outputs": [],
   "source": [
    "import string\n",
    "\n",
    "def is_phrase_palindrome(s):\n",
    "    # Pre-process\n",
    "    s = s.lower()\n",
    "    res = \"\"\n",
    "    for w in s.split(): # removing spaces and punctuations (there're better ways of doing this with Regular Expressions)\n",
    "        for c in w:\n",
    "            if c not in string.punctuation:\n",
    "                res += c\n",
    "    s = res\n",
    "    \n",
    "    return s == ''.join(list(reversed(s)))\n",
    "\n",
    "assert is_phrase_palindrome(\"Go hang a salami I'm a lasagna hog.\") == True\n",
    "assert is_phrase_palindrome(\"Was it a rat I saw?\") == True\n",
    "assert is_phrase_palindrome(\"Step on no pets\") == True\n",
    "assert is_phrase_palindrome(\"Sit on a potato pan, Otis\") == True\n",
    "assert is_phrase_palindrome(\"Lisa Bonet ate no basil\") == True\n",
    "assert is_phrase_palindrome(\"Satan, oscillate my metallic sonatas\") == True\n",
    "assert is_phrase_palindrome(\"I roamed under it as a tired nude Maori\") == True\n",
    "assert is_phrase_palindrome(\"Rise to vote sir\") == True\n",
    "assert is_phrase_palindrome(\"Dammit, I'm mad!\") == True"
   ]
  },
  {
   "cell_type": "markdown",
   "metadata": {},
   "source": [
    "### 18. A pangram is a sentence that contains all the letters of the English alphabet at least once, for example: The quick brown fox jumps over the lazy dog. Your task here is to write a function to check a sentence to see if it is a pangram or not."
   ]
  },
  {
   "cell_type": "code",
   "execution_count": 18,
   "metadata": {},
   "outputs": [],
   "source": [
    "def is_pangram(s):\n",
    "    alphabets = \"abcdefghijklmnopqrstuvwxyz\" # All the characters in the alphabet\n",
    "    char_count =  {alphabets[i]:0 for i in range(len(alphabets))} # A dictionary of character counts {'a':0,'b':0,...}\n",
    "    \n",
    "    for c in s.lower():\n",
    "        if c in char_count:\n",
    "            char_count[c] += 1\n",
    "            \n",
    "    return list(char_count.values()) >= [1 for _ in range(len(alphabets))]\n",
    "\n",
    "assert is_pangram(\"\") == False\n",
    "assert is_pangram(\"The quick brown fox.\") == False\n",
    "assert is_pangram(\"The quick brown fox jumps over the lazy dog.\") == True"
   ]
  },
  {
   "cell_type": "markdown",
   "metadata": {},
   "source": [
    "### 19. \"99 Bottles of Beer\" is a traditional song in the United States and Canada. It is popular to sing on long trips, as it has a very repetitive format which is easy to memorize, and can take a long time to sing. The song's simple lyrics are as follows:\n",
    "\n",
    ">99 bottles of beer on the wall, 99 bottles of beer. <br>\n",
    "Take one down, pass it around, 98 bottles of beer on the wall.\n",
    "\n",
    "### The same verse is repeated, each time with one fewer bottle. The song is completed when the singer or singers reach zero. Your task here is write a Python program capable of generating all the verses of the song."
   ]
  },
  {
   "cell_type": "code",
   "execution_count": 19,
   "metadata": {},
   "outputs": [
    {
     "name": "stdout",
     "output_type": "stream",
     "text": [
      "3 bottles of beer on the wall, 3 bottles of beer.\n",
      "Take one down, pass it around, 2 bottles of beer on the wall.\n",
      "\n",
      "2 bottles of beer on the wall, 2 bottles of beer.\n",
      "Take one down, pass it around, 1 bottles of beer on the wall.\n",
      "\n",
      "1 bottles of beer on the wall, 1 bottles of beer.\n",
      "Take one down, pass it around, 0 bottles of beer on the wall.\n"
     ]
    }
   ],
   "source": [
    "def sing_99_Bottles_of_Beer(n=99):\n",
    "    song = \"\"\n",
    "    while n > 0:\n",
    "        song += str(n) + \" bottles of beer on the wall, \" + \\\n",
    "                str(n) + \" bottles of beer.\" + \"\\n\" + \"Take one down, pass it around, \" + \\\n",
    "                str(n-1) + \" bottles of beer on the wall.\"\n",
    "        if n-1 > 0:\n",
    "            song += \"\\n\\n\"\n",
    "        n -= 1\n",
    "    return song\n",
    "\n",
    "print(sing_99_Bottles_of_Beer(3))"
   ]
  },
  {
   "cell_type": "code",
   "execution_count": null,
   "metadata": {},
   "outputs": [],
   "source": []
  }
 ],
 "metadata": {
  "kernelspec": {
   "display_name": "Python 3",
   "language": "python",
   "name": "python3"
  },
  "language_info": {
   "codemirror_mode": {
    "name": "ipython",
    "version": 3
   },
   "file_extension": ".py",
   "mimetype": "text/x-python",
   "name": "python",
   "nbconvert_exporter": "python",
   "pygments_lexer": "ipython3",
   "version": "3.6.8"
  }
 },
 "nbformat": 4,
 "nbformat_minor": 2
}
