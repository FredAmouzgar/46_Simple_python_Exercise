{
 "cells": [
  {
   "cell_type": "markdown",
   "metadata": {},
   "source": [
    "# 46 Simple Python Exercises (Solutions)"
   ]
  },
  {
   "cell_type": "markdown",
   "metadata": {},
   "source": [
    "### 1- Define a function `max()`  that takes two numbers as arguments and returns the largest of them. Use the if-then-else construct available in Python. (It is true that Python has the `max()`  function built in, but writing it yourself is nevertheless a good exercise.)"
   ]
  },
  {
   "cell_type": "code",
   "execution_count": 1,
   "metadata": {},
   "outputs": [],
   "source": [
    "def max_1(x,y):\n",
    "    return x if x >=y else y\n",
    "\n",
    "def max_2(x,y):\n",
    "    if x >= y:\n",
    "        return x\n",
    "    return y\n",
    "\n",
    "assert max_1(12,56) == 56\n",
    "assert max_2(12,56) == 56"
   ]
  },
  {
   "cell_type": "markdown",
   "metadata": {},
   "source": [
    "### 2- Define a function `max_of_three()`  that takes three numbers as arguments and returns the largest of them."
   ]
  },
  {
   "cell_type": "code",
   "execution_count": 2,
   "metadata": {},
   "outputs": [],
   "source": [
    "def max_of_three_1(x,y,z):\n",
    "    return max(x, max(y,z))\n",
    "\n",
    "def max_of_three_2(x,y,z):\n",
    "    maximum = x\n",
    "    if y > maximum:\n",
    "        maximum = y\n",
    "    if z > maximum:\n",
    "        maximum = z\n",
    "    return maximum\n",
    "\n",
    "assert max_of_three_1(10,87,23) == 87\n",
    "assert max_of_three_1(97,82,3) == 97\n",
    "\n",
    "assert max_of_three_2(10,87,23) == 87\n",
    "assert max_of_three_2(97,82,3) == 97"
   ]
  },
  {
   "cell_type": "markdown",
   "metadata": {},
   "source": [
    "### 3- Define a function that computes the length of a given list or string. (It is true that Python has the `len()` function built in, but writing it yourself is nevertheless a good exercise.)"
   ]
  },
  {
   "cell_type": "code",
   "execution_count": 3,
   "metadata": {},
   "outputs": [],
   "source": [
    "def length(l):\n",
    "    count = 0\n",
    "    for element in l:\n",
    "        count += 1\n",
    "    return count\n",
    "\n",
    "assert length([1,2,3,4]) == 4\n",
    "assert length([]) == 0\n",
    "assert length([34,56,23,66,5435,3,43254,5,6456]) == 9\n",
    "assert length(['aa', 'bb','c']) == 3"
   ]
  },
  {
   "cell_type": "markdown",
   "metadata": {},
   "source": [
    "### 4. Write a function that takes a character (i.e. a string of length 1) and returns True  if it is a vowel, False otherwise."
   ]
  },
  {
   "cell_type": "code",
   "execution_count": 4,
   "metadata": {},
   "outputs": [],
   "source": [
    "def is_vowel(s):\n",
    "    if len(s) > 1:\n",
    "        raise Exception(\"Error: The input is a string. It should be a character.\")\n",
    "    elif len(s) == 0:\n",
    "        raise Exception(\"Error: Empty input.\")\n",
    "    vowels = 'aeiou'\n",
    "    return s in vowels\n",
    "    \n",
    "assert is_vowel(\"b\") == False\n",
    "assert is_vowel(\"c\") == False\n",
    "assert is_vowel(\"a\") == True"
   ]
  },
  {
   "cell_type": "markdown",
   "metadata": {},
   "source": [
    "### 5. Write a function `translate()`  that will translate a text into \"rövarspråket\" (Swedish for \"robber's language\"). That is, double every consonant and place an occurrence of \"o\"  in between. For example, translate(\"this is fun\")  should return the string \"tothohisos isos fofunon\" ."
   ]
  },
  {
   "cell_type": "code",
   "execution_count": 5,
   "metadata": {},
   "outputs": [],
   "source": [
    "def translate(s):\n",
    "    words = s.split()\n",
    "    result = \"\"\n",
    "    for word in words:\n",
    "        for letter in word:\n",
    "            result += (letter + \"o\" + letter) if not is_vowel(letter) else letter\n",
    "        result += \" \"\n",
    "    return result.strip()\n",
    "\n",
    "assert translate(\"this is fun\") == \"tothohisos isos fofunon\""
   ]
  },
  {
   "cell_type": "markdown",
   "metadata": {},
   "source": [
    "### 6. Define a function `sum()`  and a function `multiply()`  that sums and multiplies (respectively) all the numbers in a list of numbers. For example, sum([1, 2, 3, 4]) should return 10 , and multiply([1, 2, 3, 4])  should return 24 ."
   ]
  },
  {
   "cell_type": "code",
   "execution_count": 6,
   "metadata": {},
   "outputs": [],
   "source": [
    "def sum_list(l):\n",
    "    result = 0\n",
    "    for element in l:\n",
    "        result += element\n",
    "    return result\n",
    "\n",
    "def multiply_list(l):\n",
    "    result = 1\n",
    "    for element in l:\n",
    "        result *= element\n",
    "    return result\n",
    "\n",
    "assert sum_list([1,2,3,4]) == 10\n",
    "assert multiply_list([1,2,3,4]) == 24"
   ]
  },
  {
   "cell_type": "markdown",
   "metadata": {},
   "source": [
    "### 7. Define a function `reverse()`  that computes the reversal of a string. For example, reverse(\"I am testing\")  should return the string \"gnitset ma I\" ."
   ]
  },
  {
   "cell_type": "code",
   "execution_count": 7,
   "metadata": {},
   "outputs": [],
   "source": [
    "def reverse(s):\n",
    "    result = \"\"\n",
    "    for i in range(len(s)-1, -1, -1):\n",
    "        result += s[i]\n",
    "    return result\n",
    "        \n",
    "assert reverse(\"I am testing\") == \"gnitset ma I\"\n",
    "assert reverse(\"abcd\") == \"dcba\""
   ]
  },
  {
   "cell_type": "markdown",
   "metadata": {},
   "source": [
    "### 8. Define a function `is_palindrome()`  that recognizes palindromes (i.e. words that look the same written backwards). For example, is_palindrome(\"radar\")  should return True ."
   ]
  },
  {
   "cell_type": "code",
   "execution_count": 8,
   "metadata": {},
   "outputs": [],
   "source": [
    "def reverse(s):\n",
    "    result = \"\"\n",
    "    for i in range(len(s)-1, -1, -1):\n",
    "        result += s[i]\n",
    "    return result\n",
    "\n",
    "def is_palindrome(s):\n",
    "    return s == reverse(s)\n",
    "\n",
    "assert is_palindrome(\"radar\") == True"
   ]
  },
  {
   "cell_type": "markdown",
   "metadata": {},
   "source": [
    "### 9. Write a function `is_member()`  that takes a value (i.e. a number, string, etc) x  and a list of values a , and returns True  if x  is a member of a , False  otherwise. (Note that this is exactly what the in  operator does, but for the sake of the exercise you should pretend Python did not have this operator.)"
   ]
  },
  {
   "cell_type": "code",
   "execution_count": 9,
   "metadata": {},
   "outputs": [],
   "source": [
    "def is_member(x:int, a:list):\n",
    "    for e in a:\n",
    "        if e == x:\n",
    "            return True\n",
    "    return False\n",
    "\n",
    "assert is_member(12, [32,14,67,564]) == False\n",
    "assert is_member(12, [32,14,12,67,564]) == True"
   ]
  },
  {
   "cell_type": "markdown",
   "metadata": {},
   "source": [
    "### 10. Define a function `overlapping()`  that takes two lists and returns True if they have at least one member in common, False otherwise. You may use your is_member()  function, or the in  operator, but for the sake of the exercise, you should (also) write it using two nested for-loops."
   ]
  },
  {
   "cell_type": "code",
   "execution_count": null,
   "metadata": {},
   "outputs": [],
   "source": []
  }
 ],
 "metadata": {
  "kernelspec": {
   "display_name": "Python 3",
   "language": "python",
   "name": "python3"
  },
  "language_info": {
   "codemirror_mode": {
    "name": "ipython",
    "version": 3
   },
   "file_extension": ".py",
   "mimetype": "text/x-python",
   "name": "python",
   "nbconvert_exporter": "python",
   "pygments_lexer": "ipython3",
   "version": "3.6.8"
  }
 },
 "nbformat": 4,
 "nbformat_minor": 2
}
