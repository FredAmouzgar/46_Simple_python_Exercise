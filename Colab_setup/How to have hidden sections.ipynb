{
 "cells": [
  {
   "cell_type": "markdown",
   "metadata": {},
   "source": [
    "# Here's how the SARSA algorithm works:\n",
    "$Q(s,a) = Q(s,a) + \\alpha \\big[ R + \\gamma Q(s',a') - Q(s,a) \\big]$\n",
    "<details>\n",
    "<summary>Here's how we implemet it in python</summary>\n",
    "<p>\n",
    "\n",
    "```python\n",
    "q[s,a] += alpha * (r + gamma * q[next_s, next_a] - q[s,a])\n",
    "```\n",
    "Rows are states, columns are acions. Here's a table for a 4 action and 5 state environment.\n",
    "\n",
    "<table border=\"1\">\n",
    "  <tr>\n",
    "    <td>States/actions</td>\n",
    "    <td>a1</td>\n",
    "    <td>a2</td>\n",
    "    <td>a3</td>\n",
    "    <td>a4</td>\n",
    "  </tr>\n",
    "  <tr>\n",
    "    <td>s1</td>\n",
    "    <td>0</td>\n",
    "    <td>0</td>\n",
    "    <td>0</td>\n",
    "    <td>0</td>\n",
    "  </tr>\n",
    "  <tr>\n",
    "    <td>s2</td>\n",
    "    <td>0</td>\n",
    "    <td>0</td>\n",
    "    <td>0</td>\n",
    "    <td>0</td>\n",
    "  </tr>\n",
    "  <tr>\n",
    "    <td>s3</td>\n",
    "    <td>0</td>\n",
    "    <td>0</td>\n",
    "    <td>0</td>\n",
    "    <td>0</td>\n",
    "  </tr>\n",
    "  <tr>\n",
    "    <td>s4</td>\n",
    "    <td>0</td>\n",
    "    <td>0</td>\n",
    "    <td>0</td>\n",
    "    <td>0</td>\n",
    "  </tr>\n",
    "  <tr>\n",
    "    <td>s5</td>\n",
    "    <td>0</td>\n",
    "    <td>0</td>\n",
    "    <td>0</td>\n",
    "    <td>0</td>\n",
    "  </tr>\n",
    "<table>\n",
    "\n",
    "</p>\n",
    "</details> "
   ]
  }
 ],
 "metadata": {
  "kernelspec": {
   "display_name": "Python 3",
   "language": "python",
   "name": "python3"
  },
  "language_info": {
   "codemirror_mode": {
    "name": "ipython",
    "version": 3
   },
   "file_extension": ".py",
   "mimetype": "text/x-python",
   "name": "python",
   "nbconvert_exporter": "python",
   "pygments_lexer": "ipython3",
   "version": "3.7.6"
  }
 },
 "nbformat": 4,
 "nbformat_minor": 4
}
