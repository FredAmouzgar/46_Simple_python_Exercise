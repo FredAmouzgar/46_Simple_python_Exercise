{
 "cells": [
  {
   "cell_type": "markdown",
   "metadata": {},
   "source": [
    "# 46 Simple Python Exercises (Solutions)\n",
    "\n",
    "This is version 0.45 of a collection of simple Python exercises constructed (but in many cases only found and\n",
    "collected) by Torbjörn Lager (torbjorn.lager@ling.gu.se). Most of them involve characters, words and phrases,\n",
    "rather than numbers, and are therefore suitable for students interested in language rather than math.\n",
    "\n",
    "## Very simple exercises"
   ]
  },
  {
   "cell_type": "markdown",
   "metadata": {},
   "source": [
    "#### 1- Define a function `max()`  that takes two numbers as arguments and returns the largest of them. Use the if-then-else construct available in Python. (It is true that Python has the `max()`  function built in, but writing it yourself is nevertheless a good exercise.)"
   ]
  },
  {
   "cell_type": "code",
   "execution_count": 1,
   "metadata": {},
   "outputs": [],
   "source": [
    "def max_1(x,y):\n",
    "    return x if x >= y else y\n",
    "\n",
    "def max_2(x,y):\n",
    "    if x >= y:\n",
    "        return x\n",
    "    return y\n",
    "\n",
    "assert max_1(12,56) == 56\n",
    "assert max_2(12,56) == 56"
   ]
  },
  {
   "cell_type": "markdown",
   "metadata": {},
   "source": [
    "#### 2- Define a function `max_of_three()`  that takes three numbers as arguments and returns the largest of them."
   ]
  },
  {
   "cell_type": "code",
   "execution_count": 2,
   "metadata": {},
   "outputs": [],
   "source": [
    "def max_of_three_1(x,y,z):\n",
    "    return max(x, max(y,z))\n",
    "\n",
    "def max_of_three_2(x,y,z):\n",
    "    maximum = x\n",
    "    if y > maximum:\n",
    "        maximum = y\n",
    "    if z > maximum:\n",
    "        maximum = z\n",
    "    return maximum\n",
    "\n",
    "assert max_of_three_1(10,87,23) == 87\n",
    "assert max_of_three_1(97,82,3) == 97\n",
    "\n",
    "assert max_of_three_2(10,87,23) == 87\n",
    "assert max_of_three_2(97,82,3) == 97"
   ]
  },
  {
   "cell_type": "markdown",
   "metadata": {},
   "source": [
    "#### 3- Define a function that computes the length of a given list or string. (It is true that Python has the `len()` function built in, but writing it yourself is nevertheless a good exercise.)"
   ]
  },
  {
   "cell_type": "code",
   "execution_count": 3,
   "metadata": {},
   "outputs": [],
   "source": [
    "def length(l):\n",
    "    count = 0\n",
    "    for element in l:\n",
    "        count += 1\n",
    "    return count\n",
    "\n",
    "assert length([1,2,3,4]) == 4\n",
    "assert length([]) == 0\n",
    "assert length([34,56,23,66,5435,3,43254,5,6456]) == 9\n",
    "assert length(['aa', 'bb','c']) == 3"
   ]
  },
  {
   "cell_type": "markdown",
   "metadata": {},
   "source": [
    "#### 4. Write a function that takes a character (i.e. a string of length 1) and returns True  if it is a vowel, False otherwise."
   ]
  },
  {
   "cell_type": "code",
   "execution_count": 4,
   "metadata": {},
   "outputs": [],
   "source": [
    "def is_vowel(s):\n",
    "    if len(s) > 1:\n",
    "        raise Exception(\"Error: The input is a string. It should be a character.\")\n",
    "    elif len(s) == 0:\n",
    "        raise Exception(\"Error: Empty input.\")\n",
    "    vowels = 'aeiou'\n",
    "    return s in vowels\n",
    "    \n",
    "assert is_vowel(\"b\") == False\n",
    "assert is_vowel(\"c\") == False\n",
    "assert is_vowel(\"a\") == True"
   ]
  },
  {
   "cell_type": "markdown",
   "metadata": {},
   "source": [
    "#### 5. Write a function `translate()`  that will translate a text into \"rövarspråket\" (Swedish for \"robber's language\"). That is, double every consonant and place an occurrence of \"o\"  in between. For example, translate(\"this is fun\")  should return the string \"tothohisos isos fofunon\" ."
   ]
  },
  {
   "cell_type": "code",
   "execution_count": 5,
   "metadata": {},
   "outputs": [],
   "source": [
    "def translate(s):\n",
    "    words = s.split()\n",
    "    result = \"\"\n",
    "    for word in words:\n",
    "        for letter in word:\n",
    "            result += (letter + \"o\" + letter) if not is_vowel(letter) else letter\n",
    "        result += \" \"\n",
    "    return result.strip()\n",
    "\n",
    "assert translate(\"this is fun\") == \"tothohisos isos fofunon\""
   ]
  },
  {
   "cell_type": "markdown",
   "metadata": {},
   "source": [
    "#### 6. Define a function `sum()`  and a function `multiply()`  that sums and multiplies (respectively) all the numbers in a list of numbers. For example, sum([1, 2, 3, 4]) should return 10 , and multiply([1, 2, 3, 4])  should return 24 ."
   ]
  },
  {
   "cell_type": "code",
   "execution_count": 6,
   "metadata": {},
   "outputs": [],
   "source": [
    "def sum_list(l):\n",
    "    result = 0\n",
    "    for element in l:\n",
    "        result += element\n",
    "    return result\n",
    "\n",
    "def multiply_list(l):\n",
    "    result = 1\n",
    "    for element in l:\n",
    "        result *= element\n",
    "    return result\n",
    "\n",
    "assert sum_list([1,2,3,4]) == 10\n",
    "assert multiply_list([1,2,3,4]) == 24"
   ]
  },
  {
   "cell_type": "markdown",
   "metadata": {},
   "source": [
    "#### 7. Define a function `reverse()`  that computes the reversal of a string. For example, reverse(\"I am testing\")  should return the string \"gnitset ma I\" ."
   ]
  },
  {
   "cell_type": "code",
   "execution_count": 7,
   "metadata": {},
   "outputs": [],
   "source": [
    "def reverse(s):\n",
    "    result = \"\"\n",
    "    for i in range(len(s)-1, -1, -1):\n",
    "        result += s[i]\n",
    "    return result\n",
    "        \n",
    "assert reverse(\"I am testing\") == \"gnitset ma I\"\n",
    "assert reverse(\"abcd\") == \"dcba\""
   ]
  },
  {
   "cell_type": "markdown",
   "metadata": {},
   "source": [
    "#### 8. Define a function `is_palindrome()`  that recognizes palindromes (i.e. words that look the same written backwards). For example, is_palindrome(\"radar\")  should return True ."
   ]
  },
  {
   "cell_type": "code",
   "execution_count": 8,
   "metadata": {},
   "outputs": [],
   "source": [
    "def reverse(s):\n",
    "    result = \"\"\n",
    "    for i in range(len(s)-1, -1, -1):\n",
    "        result += s[i]\n",
    "    return result\n",
    "\n",
    "def is_palindrome(s):\n",
    "    return s == reverse(s)\n",
    "\n",
    "########\n",
    "\n",
    "def is_palindrome_recursive(s):\n",
    "    if s == \"\":\n",
    "        return True\n",
    "    return is_palindrome_recursive(s[1:-1])\n",
    "\n",
    "assert is_palindrome(\"radar\") == True\n",
    "assert is_palindrome(\"\") == True\n",
    "assert is_palindrome_recursive(\"radar\") == True\n",
    "assert is_palindrome_recursive(\"\") == True"
   ]
  },
  {
   "cell_type": "markdown",
   "metadata": {},
   "source": [
    "#### 9. Write a function `is_member()`  that takes a value (i.e. a number, string, etc) x  and a list of values a , and returns True  if x  is a member of a , False  otherwise. (Note that this is exactly what the in  operator does, but for the sake of the exercise you should pretend Python did not have this operator.)"
   ]
  },
  {
   "cell_type": "code",
   "execution_count": 9,
   "metadata": {},
   "outputs": [],
   "source": [
    "def is_member(x:int, a:list):\n",
    "    for e in a:\n",
    "        if e == x:\n",
    "            return True\n",
    "    return False\n",
    "\n",
    "assert is_member(12, [32,14,67,564]) == False\n",
    "assert is_member(12, [32,14,12,67,564]) == True"
   ]
  },
  {
   "cell_type": "markdown",
   "metadata": {},
   "source": [
    "#### 10. Define a function `overlapping()`  that takes two lists and returns True if they have at least one member in common, False otherwise. You may use your is_member()  function, or the in  operator, but for the sake of the exercise, you should (also) write it using two nested for-loops."
   ]
  },
  {
   "cell_type": "code",
   "execution_count": 10,
   "metadata": {},
   "outputs": [],
   "source": [
    "def overlapping_1(l1,l2):\n",
    "    for e1 in l1:\n",
    "        if is_member(e1,l2):\n",
    "            return True\n",
    "    return False\n",
    "\n",
    "def overlapping_2(l1,l2):\n",
    "    for e1 in l1:\n",
    "        for e2 in l2:\n",
    "            if e1 == e2:\n",
    "                return True\n",
    "    return False\n",
    "\n",
    "assert overlapping_1([1,2,3],[4,5]) == False\n",
    "assert overlapping_2([1,2,3],[4,5]) == False\n",
    "assert overlapping_1([1,2,4,6,7],[4,5,7]) == True\n",
    "assert overlapping_2([1,2,4,6,7],[4,5,7]) == True\n",
    "assert overlapping_1([],[]) == False\n",
    "assert overlapping_2([],[]) == False"
   ]
  },
  {
   "cell_type": "markdown",
   "metadata": {},
   "source": [
    "#### 11. Define a function `generate_n_chars()` that takes an integer `n` and a character `c` and returns a string, n characters long, consisting only of c:s. For example, `generate_n_chars(5,\"x\")` should return the string \"xxxxx\". (Python is unusual in that you can actually write an expression 5 * \"x\"that will evaluate to \"xxxxx\". For the sake of the exercise you should ignore that the problem can be solved in this manner.)"
   ]
  },
  {
   "cell_type": "code",
   "execution_count": 11,
   "metadata": {},
   "outputs": [],
   "source": [
    "def generate_n_chars(n:int, c):\n",
    "    if len(c) > 1:\n",
    "        raise Exception(\"Error: The input is a string. It should be a character.\")\n",
    "    if int(n)!=n or n<=0:\n",
    "        raise Excpetion(\"Error: n must be a positive integer.\")\n",
    "    result = \"\"\n",
    "    for _ in range(n):\n",
    "        result += c\n",
    "    return result\n",
    "\n",
    "assert generate_n_chars(5,\"x\") == \"xxxxx\""
   ]
  },
  {
   "cell_type": "markdown",
   "metadata": {},
   "source": [
    "#### 12. Define a procedure `histogram()` that takes a list of integers and prints a histogram to the screen. For example, `histogram([4 ,9, 7])` should print the following:\n",
    "\n",
    ">\\*\\*\\*\\* <br>\n",
    "\\*\\*\\*\\*\\*\\*\\*\\*\\* <br>\n",
    "\\*\\*\\*\\*\\*\\*\\*"
   ]
  },
  {
   "cell_type": "code",
   "execution_count": 12,
   "metadata": {},
   "outputs": [
    {
     "name": "stdout",
     "output_type": "stream",
     "text": [
      "****\n",
      "*********\n",
      "*******\n"
     ]
    }
   ],
   "source": [
    "def histogram(l):\n",
    "    for e in l:\n",
    "        for _ in range(e):\n",
    "            print(\"*\", end=\"\")\n",
    "        print(\"\")\n",
    "        \n",
    "histogram([4 ,9, 7])"
   ]
  },
  {
   "cell_type": "markdown",
   "metadata": {},
   "source": [
    "#### 13. The function `max()` from exercise 1) and the function `max_of_three()` from exercise 2) will only work for two and three numbers, respectively. But suppose we have a much larger number of numbers, or suppose we cannot tell in advance how many they are? Write a function `max_in_list()` that takes a list of numbers and returns the largest one."
   ]
  },
  {
   "cell_type": "code",
   "execution_count": 13,
   "metadata": {},
   "outputs": [],
   "source": [
    "def max_in_list(l):\n",
    "    if len(l) == 0:\n",
    "        return\n",
    "    maximum = l[0]\n",
    "    for e in l:\n",
    "        if e > maximum:\n",
    "            maximum = e\n",
    "    return maximum\n",
    "\n",
    "assert max_in_list([]) == None\n",
    "assert max_in_list([34,3,65,22]) == 65\n",
    "assert max_in_list([456,23,7643,6778,33,85498]) == 85498"
   ]
  },
  {
   "cell_type": "markdown",
   "metadata": {},
   "source": [
    "#### 14. Write a program that maps a list of words into a list of integers representing the lengths of the correponding words."
   ]
  },
  {
   "cell_type": "code",
   "execution_count": 14,
   "metadata": {},
   "outputs": [],
   "source": [
    "def length_list_1(word_list):\n",
    "    return list(map(len, word_list)) # Applying len() function to all the elements of the word list.\n",
    "    \n",
    "def length_list_2(word_list):\n",
    "    ret_list = []\n",
    "    for word in word_list:\n",
    "        ret_list.append(len(word))\n",
    "    return ret_list\n",
    "\n",
    "assert length_list_1([\"a\",\"aa\",\"aaa\"]) == [1,2,3]\n",
    "assert length_list_2([\"a\",\"aa\",\"aaa\"]) == [1,2,3]\n",
    "\n",
    "assert length_list_1([\"aaaa\",\"a\",\"aaaaaa\",\"aa\"]) == [4,1,6,2]\n",
    "assert length_list_2([\"aaaa\",\"a\",\"aaaaaa\",\"aa\"]) == [4,1,6,2]"
   ]
  },
  {
   "cell_type": "markdown",
   "metadata": {},
   "source": [
    "#### 15. Write a function `find_longest_word()` that takes a list of words and returns the length of the longest one."
   ]
  },
  {
   "cell_type": "code",
   "execution_count": 15,
   "metadata": {},
   "outputs": [],
   "source": [
    "def find_longest_word(l):\n",
    "    return max(list(map(len,l)))\n",
    "\n",
    "assert find_longest_word([\"a\",\"aa\",\"aaa\"]) == 3\n",
    "assert find_longest_word([\"aaaa\",\"a\",\"aaaaaa\",\"aa\"]) == 6"
   ]
  },
  {
   "cell_type": "markdown",
   "metadata": {},
   "source": [
    "#### 16. Write a function `filter_long_words()` that takes a list of words and an integer n and returns the list of words that are longer than n."
   ]
  },
  {
   "cell_type": "code",
   "execution_count": 16,
   "metadata": {},
   "outputs": [],
   "source": [
    "def filter_long_words(l:list, n:int):\n",
    "    return [e for e in l if len(e) > n]\n",
    "\n",
    "assert filter_long_words(['bbbb','a','aaa','aaaaa','aaaaaaa'], 3) == ['bbbb', 'aaaaa', 'aaaaaaa']"
   ]
  },
  {
   "cell_type": "markdown",
   "metadata": {},
   "source": [
    "#### 17. Write a version of a palindrome recognizer that also accepts phrase palindromes such as \"Go hang a salami I'm a lasagna hog.\", \"Was it a rat I saw?\", \"Step on no pets\", \"Sit on a potato pan, Otis\", \"Lisa Bonet ate no basil\", \"Satan, oscillate my metallic sonatas\", \"I roamed under it as a tired nude Maori\", \"Rise to vote sir\", or the exclamation \"Dammit, I'm mad!\". Note that punctuation, capitalization, and spacing are usually ignored."
   ]
  },
  {
   "cell_type": "code",
   "execution_count": 17,
   "metadata": {},
   "outputs": [],
   "source": [
    "import string\n",
    "\n",
    "def is_phrase_palindrome(s):\n",
    "    # Pre-process\n",
    "    s = s.lower()\n",
    "    res = \"\"\n",
    "    for w in s.split(): # removing spaces and punctuations (there're better ways of doing this with Regular Expressions)\n",
    "        for c in w:\n",
    "            if c not in string.punctuation:\n",
    "                res += c\n",
    "    s = res\n",
    "    \n",
    "    return s == ''.join(list(reversed(s)))\n",
    "    \n",
    "    \n",
    "assert is_phrase_palindrome(\"Go hang a salami I'm a lasagna hog.\") == True\n",
    "assert is_phrase_palindrome(\"Was it a rat I saw?\") == True\n",
    "assert is_phrase_palindrome(\"Step on no pets\") == True\n",
    "assert is_phrase_palindrome(\"Sit on a potato pan, Otis\") == True\n",
    "assert is_phrase_palindrome(\"Lisa Bonet ate no basil\") == True\n",
    "assert is_phrase_palindrome(\"Satan, oscillate my metallic sonatas\") == True\n",
    "assert is_phrase_palindrome(\"I roamed under it as a tired nude Maori\") == True\n",
    "assert is_phrase_palindrome(\"Rise to vote sir\") == True\n",
    "assert is_phrase_palindrome(\"Dammit, I'm mad!\") == True"
   ]
  },
  {
   "cell_type": "markdown",
   "metadata": {},
   "source": [
    "#### 18. A pangram is a sentence that contains all the letters of the English alphabet at least once, for example: The quick brown fox jumps over the lazy dog. Your task here is to write a function to check a sentence to see if it is a pangram or not."
   ]
  },
  {
   "cell_type": "code",
   "execution_count": 18,
   "metadata": {},
   "outputs": [],
   "source": [
    "def is_pangram(s):\n",
    "    alphabets = \"abcdefghijklmnopqrstuvwxyz\" # All the characters in the alphabet\n",
    "    char_count =  {alphabets[i]:0 for i in range(len(alphabets))} # A dictionary of character counts {'a':0,'b':0,...}\n",
    "    \n",
    "    for c in s.lower():\n",
    "        if c in char_count:\n",
    "            char_count[c] += 1\n",
    "            \n",
    "    return list(char_count.values()) >= [1 for _ in range(len(alphabets))]\n",
    "\n",
    "assert is_pangram(\"\") == False\n",
    "assert is_pangram(\"The quick brown fox.\") == False\n",
    "assert is_pangram(\"The quick brown fox jumps over the lazy dog.\") == True"
   ]
  },
  {
   "cell_type": "markdown",
   "metadata": {},
   "source": [
    "#### 19. \"99 Bottles of Beer\" is a traditional song in the United States and Canada. It is popular to sing on long trips, as it has a very repetitive format which is easy to memorize, and can take a long time to sing. The song's simple lyrics are as follows:\n",
    "\n",
    ">99 bottles of beer on the wall, 99 bottles of beer. <br>\n",
    "Take one down, pass it around, 98 bottles of beer on the wall.\n",
    "\n",
    "#### The same verse is repeated, each time with one fewer bottle. The song is completed when the singer or singers reach zero. Your task here is write a Python program capable of generating all the verses of the song."
   ]
  },
  {
   "cell_type": "code",
   "execution_count": 19,
   "metadata": {},
   "outputs": [
    {
     "name": "stdout",
     "output_type": "stream",
     "text": [
      "3 bottles of beer on the wall, 3 bottles of beer.\n",
      "Take one down, pass it around, 2 bottles of beer on the wall.\n",
      "\n",
      "2 bottles of beer on the wall, 2 bottles of beer.\n",
      "Take one down, pass it around, 1 bottles of beer on the wall.\n",
      "\n",
      "1 bottle of beer on the wall, 1 bottle of beer.\n",
      "Take one down, pass it around, 0 bottle of beer on the wall.\n"
     ]
    }
   ],
   "source": [
    "def sing_99_Bottles_of_Beer(n=99):\n",
    "    song = \"\"\n",
    "    while n > 0:\n",
    "        bottle = \" bottles\" if n > 1 else \" bottle\"\n",
    "        song += str(n) + bottle + \" of beer on the wall, \" + \\\n",
    "                str(n) + bottle + \" of beer.\" + \"\\n\" + \"Take one down, pass it around, \" + \\\n",
    "                str(n-1) + bottle + \" of beer on the wall.\"\n",
    "        if n-1 > 0:\n",
    "            song += \"\\n\\n\"\n",
    "        n -= 1\n",
    "    return song\n",
    "\n",
    "print(sing_99_Bottles_of_Beer(3))"
   ]
  },
  {
   "cell_type": "markdown",
   "metadata": {},
   "source": [
    "#### 20. Represent a small bilingual lexicon as a Python dictionary in the following fashion {\"merry\":\"god\", \"christmas\":\"jul\", \"and\":\"och\", \"happy\":gott\", \"new\":\"nytt\", \"year\":\"år\"} and use it to translate your Christmas cards from English into Swedish. That is, write a function `translate()` that takes a list of English words and returns a list of Swedish words."
   ]
  },
  {
   "cell_type": "code",
   "execution_count": 20,
   "metadata": {},
   "outputs": [],
   "source": [
    "def translate(word, dictionary=None):\n",
    "    if dictionary == None:\n",
    "        dictionary = {\"merry\":\"god\", \"christmas\":\"jul\", \"and\":\"och\", \"happy\":\"gott\", \"new\":\"nytt\", \"year\":\"år\"}\n",
    "    return dictionary[word]\n",
    "\n",
    "assert translate(\"year\") == \"år\"\n",
    "assert translate(\"merry\") == \"god\""
   ]
  },
  {
   "cell_type": "markdown",
   "metadata": {},
   "source": [
    "#### 21. Write a function `char_freq()` that takes a string and builds a frequency listing of the characters contained in it. Represent the frequency listing as a Python dictionary. Try it with something like `char_freq(\"abbabcbdbabdbdbabababcbcbab\")`."
   ]
  },
  {
   "cell_type": "code",
   "execution_count": 21,
   "metadata": {},
   "outputs": [],
   "source": [
    "def char_freq(s):\n",
    "    alphabets = \"abcdefghijklmnopqrstuvwxyz\" # All the characters in the alphabet\n",
    "    char_count =  {alphabets[i]:0 for i in range(len(alphabets))} # A dictionary of character counts {'a':0,'b':0,...}\n",
    "    \n",
    "    for c in s.lower():\n",
    "        if c in char_count:\n",
    "            char_count[c] += 1\n",
    "    return {char:count for char,count in char_count.items() if count > 0} # returning the available members\n",
    "\n",
    "assert char_freq(\"abc\") ==  {'a': 1, 'b': 1, 'c': 1}\n",
    "assert char_freq(\"abbabcbdbabdbdbabababcbcbab\") == {'a': 7, 'b': 14, 'c': 3, 'd': 3}\n",
    "assert char_freq(\"AbbcccDdDdeeeeeffFfFfgGg\") == {'a': 1, 'b': 2, 'c': 3, 'd': 4, 'e': 5, 'f': 6, 'g': 3}"
   ]
  },
  {
   "cell_type": "markdown",
   "metadata": {},
   "source": [
    "#### 22. In cryptography, a Caesar cipher is a very simple encryption techniques in which each letter in the plain text is replaced by a letter some fixed number of positions down the alphabet. For example, with a shift of 3, A would be replaced by D, B would become E, and so on. The method is named after Julius Caesar, who used it to communicate with his generals. _ROT-13_ (\"rotate by 13 places\") is a widely used example of a Caesar cipher where the shift is 13. In Python, the key for ROT-13 may be represented by means of the following dictionary:\n",
    "```\n",
    "key = {'a':'n', 'b':'o', 'c':'p', 'd':'q', 'e':'r', 'f':'s', 'g':'t',\n",
    "'h':'u', 'i':'v', 'j':'w', 'k':'x', 'l':'y', 'm':'z', 'n':'a', 'o':'b',\n",
    "'p':'c', 'q':'d', 'r':'e', 's':'f', 't':'g', 'u':'h', 'v':'i', 'w':'j',\n",
    "'x':'k', 'y':'l', 'z':'m', 'A':'N', 'B':'O', 'C':'P', 'D':'Q', 'E':'R',\n",
    "'F':'S', 'G':'T', 'H':'U', 'I':'V', 'J':'W', 'K':'X', 'L':'Y', 'M':'Z',\n",
    "'N':'A', 'O':'B', 'P':'C', 'Q':'D', 'R':'E', 'S':'F', 'T':'G', 'U':'H',\n",
    "'V':'I', 'W':'J', 'X':'K', 'Y':'L', 'Z':'M'}\n",
    "```\n",
    "#### Your task in this exercise is to implement an encoder/decoder of ROT­13. Once you're done, you will be able to read the following secret message:\n",
    "```\n",
    "Pnrfne pvcure? V zhpu cersre Pnrfne fnynq!\n",
    "```\n",
    "#### Note that since English has 26 characters, your `ROT-13` program will be able to both encode and decode texts written in English"
   ]
  },
  {
   "cell_type": "code",
   "execution_count": 22,
   "metadata": {},
   "outputs": [
    {
     "name": "stdout",
     "output_type": "stream",
     "text": [
      "Caesar cipher? I much prefer Caesar salad!\n",
      "Pnrfne pvcure? V zhpu cersre Pnrfne fnynq!\n"
     ]
    }
   ],
   "source": [
    "def ROT_N(s, mode=\"decode\", rotation=13):\n",
    "    # Key_code generation according to the provided rotation (default rotation = 13)\n",
    "    alph = \"abcdefghijklmnopqrstuvwxyz\"\n",
    "    alph_capital = alph.upper()\n",
    "    key_code = {alph[i]:alph[(i+rotation)%len(alph)] for i in range(len(alph))} # Small letters mappings\n",
    "    key_code_upper = {alph_capital[i]:alph_capital[(i+rotation)%len(alph_capital)] for i in range(len(alph_capital))} # Capital letters mapping\n",
    "    key_code.update(key_code_upper)\n",
    "    \n",
    "    # Reversing the order of key:value for the decoder\n",
    "    key_decode = {v:k for k,v in key_code.items()}\n",
    "    \n",
    "    # Choosing a dictionary\n",
    "    if mode == \"encode\":\n",
    "        dictionary = key_code\n",
    "    elif mode == \"decode\":\n",
    "        dictionary = key_decode\n",
    "    else:\n",
    "        raise TypeError(\"Invalid mode type. Expecting encode/decode\")\n",
    "    \n",
    "    # Coverting phase\n",
    "    res = \"\"\n",
    "    for c in s:\n",
    "        if c in dictionary.keys():\n",
    "            res += dictionary[c]\n",
    "        else:\n",
    "            res += c\n",
    "        \n",
    "    return res\n",
    "\n",
    "print(ROT_N(\"Pnrfne pvcure? V zhpu cersre Pnrfne fnynq!\", mode=\"decode\", rotation=13))\n",
    "print(ROT_N(\"Caesar cipher? I much prefer Caesar salad!\", mode=\"encode\", rotation=13))"
   ]
  },
  {
   "cell_type": "markdown",
   "metadata": {},
   "source": [
    "#### 23. Define a simple \"spelling correction\" function `correct()` that takes a string and sees to it that\n",
    "1. two or more occurrences of the space character is compressed into one, and\n",
    "2. inserts an extra space after a period if the period is directly followed by a letter. E.g. `correct(\"This is very funny and cool.Indeed!\")` should return <ins>\"This is very funny and cool. Indeed!\"</ins><br>\n",
    "__Tip: Use regular expressions!__"
   ]
  },
  {
   "cell_type": "code",
   "execution_count": 23,
   "metadata": {},
   "outputs": [],
   "source": [
    "import re\n",
    "\n",
    "def correct_try1(s):\n",
    "    word_list = s.split()                                  # Split the string by whitespaces  \n",
    "    word_list = [word for word in word_list if word != \"\"] # Removing extra spaces\n",
    "    res = []\n",
    "    regex_pattern = re.compile(r\"\\S+[.!?]\\S+\")             # Detects patterns like \"cool.Indeed!\"\n",
    "    regex_for_index = re.compile(r\"[.!?]\")                 # Finds its index\n",
    "    for word in word_list:\n",
    "        if regex_pattern.match(word):          # If a word has a period, exclamation or question mark in the middle\n",
    "            idx = regex_for_index.search(word).span()[0]   # find its index\n",
    "            word = list(word)                              # convert it to a list of letters\n",
    "            word.insert(idx+1, \" \")                        # Add a space\n",
    "            res.append(\"\".join(word))          # reconstruct the word again and add it to the result (res) list\n",
    "        else:\n",
    "            res.append(word)                   # Else, add the word to the result list\n",
    "    return \" \".join(res)                       # Merge all the words in the result list as one string & return it.\n",
    "\n",
    "def correct_try2(s):\n",
    "    s = re.sub(r\"\\s{1,}\",\" \", s)               # Removing extra whitespaces\n",
    "    s = re.sub(r\"(\\.|\\?|!)(\\w)\", r\"\\1 \\2\",s)   # Adding space after \".\", \"!\" and \"?\" (end of sentence)\n",
    "    return s\n",
    "\n",
    "assert correct_try1(\"This is very  funny and cool.Indeed!\") == \"This is very funny and cool. Indeed!\"\n",
    "assert correct_try1(\"This    is    the second   test!Let's   see    how it performes.   Third sentence.Forth sentence?\") == \\\n",
    "               \"This is the second test! Let's see how it performes. Third sentence. Forth sentence?\"\n",
    "assert correct_try2(\"This is very  funny and cool.Indeed!\") == \"This is very funny and cool. Indeed!\"\n",
    "assert correct_try2(\"This    is    the second   test!Let's   see    how it performes.   Third sentence.Forth sentence?\") == \\\n",
    "               \"This is the second test! Let's see how it performes. Third sentence. Forth sentence?\""
   ]
  },
  {
   "cell_type": "markdown",
   "metadata": {},
   "source": [
    "#### 24. The third person singular verb form in English is distinguished by the suffix -s, which is added to the stem of the infinitive form: run -> runs. A simple set of rules can be given as follows:\n",
    "1. If the verb ends in y, remove it and add ies\n",
    "2. If the verb ends in o, ch, s, sh, x or z, add es\n",
    "3. By default just add s\n",
    "\n",
    "#### Your task in this exercise is to define a function `make_3sg_form()` which given a verb in infinitive form returns its third person singular form. Test your function with words like try, brush, run and fix. Note however that the rules must be regarded as heuristic, in the sense that you must not expect them to work for all cases. \n",
    "Tip: Check out the string method endswith()"
   ]
  },
  {
   "cell_type": "code",
   "execution_count": 24,
   "metadata": {},
   "outputs": [],
   "source": [
    "def make_3sg_form(s):\n",
    "    rules = {\"y\":\"ies\", \"o\":\"es\", \"ch\":\"es\", \"s\":\"es\", \"sh\":\"es\", \"x\":\"es\", \"z\":\"es\"} # \"Others\":\"s\"\n",
    "    for k, v in rules.items():                   # Loop through the rules, searchin for a match\n",
    "        if s.endswith(k):                        # If the rules was found in the rules dictionary\n",
    "            s = s[:-1] if s.endswith(\"y\") else s # \"y\" is an exception, this line takes care of it by removing 'y'\n",
    "            s += v                               # Add the provided value from the rule entry that we found\n",
    "            return s\n",
    "    return s + \"s\"                               # If there was no entry for the verb follow the general rule (add 's')\n",
    "\n",
    "tests = [\"try\", \"brush\", \"run\", \"fix\", \"buzz\"]\n",
    "assert list(map(make_3sg_form, tests)) == ['tries', 'brushes', 'runs', 'fixes', \"buzzes\"]"
   ]
  },
  {
   "cell_type": "markdown",
   "metadata": {},
   "source": [
    "#### 25. In English, the present participle is formed by adding the suffix ­ing to the infinite form: go -> going. A simple set of heuristic rules can be given as follows:\n",
    "1. If the verb ends in e, drop the e and add ing (if not exception: be, see, flee, knee, etc.)\n",
    "2. If the verb ends in ie, change ie to y and add ing\n",
    "3. For words consisting of consonant-vowel-consonant, double the final letter before adding ing\n",
    "4. By default just add ing\n",
    "#### Your task in this exercise is to define a function `make_ing_form()` which given a verb in infinitive form returns its present participle form. Test your function with words such as lie, see, move and hug. However, you must not expect such simple rules to work for all cases."
   ]
  },
  {
   "cell_type": "code",
   "execution_count": 25,
   "metadata": {},
   "outputs": [],
   "source": [
    "import re\n",
    "\n",
    "def make_ing_form(verb, rules=None):\n",
    "    \"\"\"\n",
    "    A more systematic approach is to separate code from its logic. Logic is passed to the function by the \"rules\" parameter as a dictionary. The rest of the code follows the instructions provided by those rules.\n",
    "    i.e: rules = {\"\\w+ie$\":{\"drop\":2, \"add\":\"ying\", \"exceptions\":[]},\"\\w+e$\":{\"drop\":1, \"add\":\"ing\", \"exceptions\":[\"be\", \"see\", \"flee\", \"knee\"]},r\"(\\w*[^aeiou])([aeiou])([^aeiou])\":{\"drop\":0, \"add\":3, \"exceptions\":[]}\n",
    "                }\n",
    "         make_ing_form(\"come\", rules) -> coming\n",
    "    \"\"\"\n",
    "    if rules == None:\n",
    "        rules = {\"\\w+ie$\":{\"drop\":2, \"add\":\"ying\", \"exceptions\":[]},\n",
    "                 \"\\w+e$\":{\"drop\":1, \"add\":\"ing\", \"exceptions\":[\"be\", \"see\", \"flee\", \"knee\"]},\n",
    "                 r\"(\\w*[^aeiou])([aeiou])([^aeiou])$\":{\"drop\":0, \"add\":3, \"exceptions\":[]}\n",
    "                }\n",
    "    if len(verb) == 0:\n",
    "        raise Exception(\"Empty string.\")\n",
    "        \n",
    "    for k, v in rules.items():\n",
    "        regex = re.compile(k)\n",
    "        if re.match(k,verb):\n",
    "            if verb in v[\"exceptions\"]: # If the verb is an exception (a member of exceptions list) break the loop\n",
    "                break\n",
    "            if v[\"drop\"] > 0:\n",
    "                verb = verb[:-1 * v[\"drop\"]] # If we have a drop key, drop letters accordingly\n",
    "            if isinstance(v[\"add\"], int):\n",
    "                search_res = regex.search(verb)\n",
    "                repeat = search_res.group(v[\"add\"]) # Finding and repeating the group provided\n",
    "                verb += repeat + \"ing\"\n",
    "            else:\n",
    "                verb += v[\"add\"]  # if v[\"add\"] is a string just add it\n",
    "            return verb\n",
    "    \n",
    "    return verb + \"ing\"\n",
    "\n",
    "assert list(map(make_ing_form, [\"go\", \"study\", \"lie\", \"see\", \"move\", \"buz\", \"come\", \"hug\", \"be\", \"see\", \"flee\", \"knee\"])) == \\\n",
    "['going', 'studying', 'lying', 'seeing', 'moving', 'buzzing', 'coming', 'hugging', 'being', 'seeing', 'fleeing', 'kneeing']"
   ]
  },
  {
   "cell_type": "markdown",
   "metadata": {},
   "source": [
    "## Higher order functions and list comprehensions"
   ]
  },
  {
   "cell_type": "markdown",
   "metadata": {},
   "source": [
    "#### 26. Using the higher order function `reduce()`, write a function `max_in_list()` that takes a list of numbers and returns the largest one. Then ask yourself: why define and call a new function, when I can just as well call the `reduce()` function directly?"
   ]
  },
  {
   "cell_type": "code",
   "execution_count": 26,
   "metadata": {},
   "outputs": [],
   "source": [
    "from functools import reduce\n",
    "\n",
    "def max_in_list_1(l):\n",
    "    return reduce(lambda x,y: x if x > y else y, l) # Defining our own max function using the lambda notation\n",
    "\n",
    "def max_in_list_2(l, fn=max):\n",
    "    return reduce(fn, l)                            # Using the system defined max function\n",
    "\n",
    "assert max_in_list_1([451,232,466,654,326,555]) == 654\n",
    "assert max_in_list_2([451,232,466,654,326,555]) == 654"
   ]
  },
  {
   "cell_type": "markdown",
   "metadata": {},
   "source": [
    "#### 27. Write a program that maps a list of words into a list of integers representing the lengths of the correponding words. Write it in three different ways:\n",
    "1. using a for-loop,\n",
    "2. using the higher order function `map()`, and\n",
    "3. using list comprehensions."
   ]
  },
  {
   "cell_type": "code",
   "execution_count": 27,
   "metadata": {},
   "outputs": [],
   "source": [
    "def get_lens_1(words):\n",
    "    lens = []\n",
    "    for word in words:\n",
    "        lens.append(len(word))\n",
    "    return lens\n",
    "\n",
    "def get_lens_2(words):\n",
    "    return list(map(len, words))\n",
    "\n",
    "def get_lens_3(words):\n",
    "    return [len(word) for word in words]\n",
    "    \n",
    "assert get_lens_1(['a','aaa', 'aa', 'abde']) == [1, 3, 2, 4]\n",
    "assert get_lens_2(['a','aaa', 'aa', 'abde']) == [1, 3, 2, 4]\n",
    "assert get_lens_3(['a','aaa', 'aa', 'abde']) == [1, 3, 2, 4]"
   ]
  },
  {
   "cell_type": "markdown",
   "metadata": {},
   "source": [
    "#### 28. Write a function `find_longest_word()` that takes a list of words and returns the length of the longest one. Use only higher order functions."
   ]
  },
  {
   "cell_type": "code",
   "execution_count": 28,
   "metadata": {},
   "outputs": [],
   "source": [
    "def find_longest_word(words):\n",
    "    return max(list(map(len, words)))\n",
    "\n",
    "assert find_longest_word([\"aaaaa\", \"aa\", \"bbb\", \"\"]) == 5"
   ]
  },
  {
   "cell_type": "markdown",
   "metadata": {},
   "source": [
    "#### 29. Using the higher order function `filter()`, define a function `filter_long_words()` that takes a list of words and an integer `n` and returns the list of words that are longer than n."
   ]
  },
  {
   "cell_type": "code",
   "execution_count": 29,
   "metadata": {},
   "outputs": [],
   "source": [
    "def filter_long_words(words, n):\n",
    "    return list(filter(lambda word:len(word) > n, words))\n",
    "\n",
    "assert filter_long_words(['a','aaa', 'aa', 'abde'], 2) == ['aaa', 'abde']\n",
    "assert filter_long_words(['a','aaa', 'aa', 'abde', '', 'abc'], 1) == ['aaa', 'aa', 'abde', 'abc']"
   ]
  },
  {
   "cell_type": "markdown",
   "metadata": {},
   "source": [
    "#### 30. Represent a small bilingual lexicon as a Python dictionary in the following fashion *{\"merry\":\"god\", \"christmas\":\"jul\", \"and\":\"och\", \"happy\":gott\", \"new\":\"nytt\", \"year\":\"år\"}* and use it to translate your Christmas cards from English into Swedish. Use the higher order function `map()` to write a function `translate()` that takes a list of English words and returns a list of Swedish words."
   ]
  },
  {
   "cell_type": "code",
   "execution_count": 30,
   "metadata": {},
   "outputs": [],
   "source": [
    "def translate(words, dictionary=None):\n",
    "    if dictionary == None:\n",
    "        dictionary = {\"merry\":\"god\", \"christmas\":\"jul\", \"and\":\"och\", \"happy\":\"gott\", \"new\":\"nytt\", \"year\":\"år\"}\n",
    "    return list(map(lambda w:dictionary[w] if w in dictionary else \"<UNK>\", words))\n",
    "\n",
    "assert translate([\"merry\", \"and\"]) == ['god', 'och']\n",
    "assert translate([\"happy\", \"year\", \"Python\"]) == ['gott', 'år', \"<UNK>\"]"
   ]
  },
  {
   "cell_type": "markdown",
   "metadata": {},
   "source": [
    "#### 31. Implement the higher order functions `map()` , `filter()` and `reduce()`. (They are built-in but writing them yourself may be a good exercise.)"
   ]
  },
  {
   "cell_type": "code",
   "execution_count": 31,
   "metadata": {},
   "outputs": [],
   "source": [
    "def _map(fn, l):\n",
    "    for e in l:\n",
    "        yield fn(e) # Making a generator for the _map function\n",
    "        \n",
    "def _filter(fn, l):\n",
    "    for e in l:\n",
    "        if fn(e):\n",
    "            yield e\n",
    "\n",
    "def _reduce(fn, l):\n",
    "    if l == []:\n",
    "        return None\n",
    "    res = l[0]\n",
    "    for i in range(1,len(l)):\n",
    "        res = fn(res, l[i])\n",
    "    return res\n",
    "\n",
    "assert list(_map(lambda x:x**2, [1,2,3,4,5])) == [1,4,9,16,25]\n",
    "assert list(_map(lambda x:x**2, [])) == []\n",
    "\n",
    "assert list(_filter(lambda x:x>0, [-1,2,3,-4,-10,10])) == [2, 3, 10]\n",
    "assert list(_filter(lambda x:x**2>25, [-1,2,3,-7,6,10])) == [-7, 6, 10]\n",
    "assert list(_filter(lambda x:x**2>25, [])) == []\n",
    "\n",
    "assert _reduce(lambda x,y:x+y, [1,2,3,4]) == 10\n",
    "assert _reduce(lambda x,y: x if x > y else y, [451,232,466,654,326,555]) == 654\n",
    "assert _reduce(max,[451,232,466,654,326,555]) == 654\n",
    "assert _reduce(max,[]) == None"
   ]
  },
  {
   "cell_type": "markdown",
   "metadata": {},
   "source": [
    "## Simple exercises including I/O"
   ]
  },
  {
   "cell_type": "markdown",
   "metadata": {},
   "source": [
    "#### 32. Write a version of a palindrome recogniser that accepts a file name from the user, reads each line, and prints the line to the screen if it is a palindrome."
   ]
  },
  {
   "cell_type": "code",
   "execution_count": 32,
   "metadata": {},
   "outputs": [
    {
     "name": "stdout",
     "output_type": "stream",
     "text": [
      "Writing TEMP\n"
     ]
    }
   ],
   "source": [
    "%%writefile TEMP\n",
    "level\n",
    "not palindrome\n",
    "radar"
   ]
  },
  {
   "cell_type": "code",
   "execution_count": 33,
   "metadata": {},
   "outputs": [
    {
     "name": "stdout",
     "output_type": "stream",
     "text": [
      "Original TEMP\n",
      "=======\n",
      "level\n",
      "not palindrome\n",
      "radar\n",
      "\n",
      "Palindromes in TEMP\n",
      "=======\n",
      "level\n",
      "radar\n"
     ]
    }
   ],
   "source": [
    "def which_line_is_palindrome(file):\n",
    "    with open(file, \"r+\") as f:\n",
    "        lines = f.read().split(\"\\n\")\n",
    "        for line in lines:\n",
    "            if line == reverse(line):\n",
    "                print(line)\n",
    "\n",
    "print(\"Original TEMP\")\n",
    "print(\"=======\")\n",
    "with open(\"TEMP\", \"r\") as f:\n",
    "    print(f.read())\n",
    "    \n",
    "print()\n",
    "\n",
    "print(\"Palindromes in TEMP\")\n",
    "print(\"=======\")\n",
    "which_line_is_palindrome(\"TEMP\")\n",
    "\n",
    "# Cleaning up\n",
    "import os\n",
    "os.unlink(\"TEMP\")"
   ]
  },
  {
   "cell_type": "markdown",
   "metadata": {},
   "source": [
    "#### 33. According to Wikipedia, a semordnilap is a word or phrase that spells a different word or phrase backwards. (\"Semordnilap\" is itself \"palindromes\" spelled backwards.) Write a semordnilap recogniser that accepts a file name (pointing to a list of words) from the user and finds and prints all pairs of words that are semordnilaps to the screen. For example, if \"stressed\" and \"desserts\" are part of the word list, the the output should include the pair \"stressed desserts\". Note, by the way, that each pair by itself forms a palindrome!"
   ]
  },
  {
   "cell_type": "code",
   "execution_count": 34,
   "metadata": {},
   "outputs": [
    {
     "name": "stdout",
     "output_type": "stream",
     "text": [
      "Writing TEMP\n"
     ]
    }
   ],
   "source": [
    "%%writefile TEMP\n",
    "level desserts.\n",
    "stressed palindromes was?\n",
    "radar saw semordnilap!"
   ]
  },
  {
   "cell_type": "code",
   "execution_count": 35,
   "metadata": {},
   "outputs": [
    {
     "name": "stdout",
     "output_type": "stream",
     "text": [
      "desserts stressed - palindromes semordnilap - was saw\n"
     ]
    }
   ],
   "source": [
    "import re\n",
    "\n",
    "def semordnilap_recogniser(file):\n",
    "    res = []\n",
    "    with open(file, \"r+\") as f:\n",
    "        word_list = f.read().split() # Splitting\n",
    "        word_list = list(map(lambda word:re.sub(\"[^a-zA-Z]\",\"\",word), word_list)) # Preprocessing\n",
    "        \n",
    "    for i in range(len(word_list)):\n",
    "        if word_list[i] != word_list[i][::-1]:         # if the word is not a palindrome, go search for its reverse\n",
    "            for j in range(i+1, len(word_list)):       # in the rest of the list\n",
    "                if word_list[i] == word_list[j][::-1]: # here's the place that may capture that\n",
    "                    res.append(word_list[i] + \" \" + word_list[j])\n",
    "    return res\n",
    "                    \n",
    "        \n",
    "print(\" - \".join(semordnilap_recogniser(\"TEMP\"))) # Execution\n",
    "\n",
    "# Cleaning up\n",
    "import os\n",
    "os.unlink(\"TEMP\")"
   ]
  },
  {
   "cell_type": "markdown",
   "metadata": {},
   "source": [
    "#### 34. Write a procedure `char_freq_table()` that, when run in a terminal, accepts a file name from the user, builds a frequency listing of the characters contained in the file, and prints a sorted and nicely formatted character frequency table to the screen."
   ]
  },
  {
   "cell_type": "code",
   "execution_count": 36,
   "metadata": {},
   "outputs": [
    {
     "name": "stdout",
     "output_type": "stream",
     "text": [
      "Writing TEMP\n"
     ]
    }
   ],
   "source": [
    "%%writefile TEMP\n",
    "Lorem Ipsum is simply dummy text of the printing and typesetting industry.\n",
    "Lorem Ipsum has been the industry's standard dummy text ever since the 1500s\n",
    "when an unknown printer took a galley of type and scrambled it to make a type specimen book.\n",
    "It has survived not only five centuries, but also the leap into electronic typesetting,\n",
    "remaining essentially unchanged. It was popularised in the 1960s with the release of Letraset sheets\n",
    "containing Lorem Ipsum passages, and more recently with desktop publishing software like Aldus\n",
    "PageMaker including versions of Lorem Ipsum."
   ]
  },
  {
   "cell_type": "code",
   "execution_count": 37,
   "metadata": {},
   "outputs": [
    {
     "name": "stdout",
     "output_type": "stream",
     "text": [
      "__________________\n",
      "| Char.  | Freq.  |\n",
      "| ______ | ______ |\n",
      "| \" \"    | 84     |\n",
      "| ------ | ------ |\n",
      "| e      | 59     |\n",
      "| ------ | ------ |\n",
      "| t      | 43     |\n",
      "| ------ | ------ |\n",
      "| s      | 39     |\n",
      "| ------ | ------ |\n",
      "| i      | 38     |\n",
      "| ------ | ------ |\n",
      "| n      | 38     |\n",
      "| ------ | ------ |\n",
      "| a      | 29     |\n",
      "| ------ | ------ |\n",
      "| o      | 25     |\n",
      "| ------ | ------ |\n",
      "| r      | 24     |\n",
      "| ------ | ------ |\n",
      "| l      | 22     |\n",
      "| ------ | ------ |\n",
      "| m      | 19     |\n",
      "| ------ | ------ |\n",
      "| p      | 19     |\n",
      "| ------ | ------ |\n",
      "| u      | 17     |\n",
      "| ------ | ------ |\n",
      "| d      | 16     |\n",
      "| ------ | ------ |\n",
      "| h      | 14     |\n",
      "| ------ | ------ |\n",
      "| y      | 13     |\n",
      "| ------ | ------ |\n",
      "| g      | 11     |\n",
      "| ------ | ------ |\n",
      "| c      | 10     |\n",
      "| ------ | ------ |\n",
      "| k      | 7      |\n",
      "| ------ | ------ |\n",
      "| f      | 6      |\n",
      "| ------ | ------ |\n",
      "| \\n     | 6      |\n",
      "| ------ | ------ |\n",
      "| w      | 6      |\n",
      "| ------ | ------ |\n",
      "| b      | 5      |\n",
      "| ------ | ------ |\n",
      "| v      | 5      |\n",
      "| ------ | ------ |\n",
      "| .      | 4      |\n",
      "| ------ | ------ |\n",
      "| 0      | 3      |\n",
      "| ------ | ------ |\n",
      "| ,      | 3      |\n",
      "| ------ | ------ |\n",
      "| x      | 2      |\n",
      "| ------ | ------ |\n",
      "| 1      | 2      |\n",
      "| ------ | ------ |\n",
      "| '      | 1      |\n",
      "| ------ | ------ |\n",
      "| 5      | 1      |\n",
      "| ------ | ------ |\n",
      "| 9      | 1      |\n",
      "| ------ | ------ |\n",
      "| 6      | 1      |\n",
      "__________________\n"
     ]
    }
   ],
   "source": [
    "def draw_table(char_freq):\n",
    "    sep = \"-\"*6\n",
    "    heading = \"_\"*18\n",
    "    print(heading)\n",
    "    print(\"| {0:6} | {1:6} |\".format(\"Char.\", \"Freq.\"))\n",
    "    print(\"| {0:6} | {1:6} |\".format(\"_\"*6, \"_\"*6))\n",
    "    length = len(char_freq)\n",
    "    count = 0\n",
    "    for k,v in char_freq.items():\n",
    "        if k == '\\n':\n",
    "            k = \"\\\\n\" # Handling newline char\n",
    "        if k == ' ':\n",
    "            k = '\\\" \\\"'\n",
    "        print(\"| {0:6} | {1:6} |\".format(str(k), str(v)))\n",
    "        if count < length-1:\n",
    "            print(\"| {0:6} | {1:6} |\".format(sep, sep))\n",
    "        count += 1\n",
    "    print(heading)\n",
    "    \n",
    "def char_freq_table(file):\n",
    "    with open(file, \"r+\") as f:\n",
    "        word_list = f.read().lower()\n",
    "    chars = {}\n",
    "    for c in word_list:\n",
    "        if c in chars.keys():\n",
    "            chars[c] += 1\n",
    "        else:\n",
    "            chars.update({c:1})\n",
    "    \n",
    "    char_freq = dict(sorted(chars.items(), key=lambda x:x[1] ,reverse=True))\n",
    "    draw_table(char_freq)\n",
    "    \n",
    "char_freq_table(\"TEMP\")\n",
    "\n",
    "# Cleaning up\n",
    "import os\n",
    "os.unlink(\"TEMP\")"
   ]
  },
  {
   "cell_type": "markdown",
   "metadata": {},
   "source": [
    "#### 35. The International Civil Aviation Organization (ICAO) alphabet assigns code words to the letters of the English alphabet acrophonically (Alfa for A, Bravo for B, etc.) so that critical combinations of letters (and numbers) can be pronounced and understood by those who transmit and receive voice messages by radio or telephone regardless of their native language, especially when the safety of navigation or persons is essential. Here is a Python dictionary covering one version of the ICAO alphabet:\n",
    "```\n",
    "d = {'a':'alfa', 'b':'bravo', 'c':'charlie', 'd':'delta', 'e':'echo', 'f':'foxtrot',\n",
    "'g':'golf', 'h':'hotel', 'i':'india', 'j':'juliett', 'k':'kilo', 'l':'lima',\n",
    "'m':'mike', 'n':'november', 'o':'oscar', 'p':'papa', 'q':'quebec', 'r':'romeo',\n",
    "'s':'sierra', 't':'tango', 'u':'uniform', 'v':'victor', 'w':'whiskey', 'x':'x-ray', 'y':'yankee', 'z':'zulu'}\n",
    "```\n",
    "#### Your task in this exercise is to write a `procedure_speak_ICAO()` able to translate any text (i.e. any string) into spoken ICAO words. You need to import at least two libraries: `os` and `time`. On a mac, you have access to the system TTS (Text-To-Speech) as follows: `os.system('say ' + msg)`, where `msg` is the string to be spoken. (Under UNIX/Linux and Windows, something similar might exist.) Apart from the text to be spoken, your procedure also needs to accept two additional parameters: a float indicating the length of the pause between each spoken ICAO word, and a float indicating the length of the pause between each word spoken."
   ]
  },
  {
   "cell_type": "code",
   "execution_count": 38,
   "metadata": {},
   "outputs": [
    {
     "name": "stdout",
     "output_type": "stream",
     "text": [
      "hotel echo yankee ! \n",
      "_____\n",
      "\n",
      "tango hotel india sierra \n",
      "_____\n",
      "\n",
      "india sierra \n",
      "_____\n",
      "\n",
      "alfa \n",
      "_____\n",
      "\n",
      "tango echo sierra tango "
     ]
    }
   ],
   "source": [
    "import time,os,re\n",
    "\n",
    "def procedure_speak_ICAO(msg, pause_letters=1, pause_words=4):\n",
    "    d = {'a':'alfa', 'b':'bravo', 'c':'charlie', 'd':'delta', 'e':'echo', 'f':'foxtrot',\n",
    "         'g':'golf', 'h':'hotel', 'i':'india', 'j':'juliett', 'k':'kilo', 'l':'lima',\n",
    "         'm':'mike', 'n':'november', 'o':'oscar', 'p':'papa', 'q':'quebec', 'r':'romeo',\n",
    "         's':'sierra', 't':'tango', 'u':'uniform', 'v':'victor', 'w':'whiskey', 'x':'x-ray',\n",
    "         'y':'yankee', 'z':'zulu'}\n",
    "    msg = msg.lower()\n",
    "    for letter in msg:\n",
    "        if re.match(\"\\s\", letter): # if whitespace i.e.: \\n, \" \" or \\t\n",
    "            print(\"\\n_____\\n\")\n",
    "            time.sleep(pause_words) # Waiting for 4 seconds before starting to process the next word\n",
    "        else:\n",
    "            if letter in d:\n",
    "                print(d[letter], end=\" \")\n",
    "            else:\n",
    "                print(letter, end=\" \")\n",
    "            time.sleep(pause_letters) # Waiting for 2 seconds before processing the next letter\n",
    "            \n",
    "procedure_speak_ICAO(\"Hey!\\nThis is a test\", pause_letters=0.25, pause_words=1)"
   ]
  },
  {
   "cell_type": "markdown",
   "metadata": {},
   "source": [
    "##### To make it callable from the shell, make sure to save the above function in a separate file, and add these line at the end.\n",
    "\n",
    "```python\n",
    "if __name__ == \"__main__\":\n",
    "    msg = sys.argv[1]\n",
    "    procedure_speak_ICAO(msg)\n",
    "```\n",
    "##### This python file should be referred to from a bash script called \"say.sh\", passing the argument from the command line. We can copy both files to the /bin/ and give them the right permission:\n",
    "```bash\n",
    "chmod +x say.sh\n",
    "```\n",
    "##### Now, test this from the python REPL command line:\n",
    "```python\n",
    "import os\n",
    "msg = \"This is a test.\"\n",
    "os.system(\"say \" + msg)\n",
    "```"
   ]
  },
  {
   "cell_type": "markdown",
   "metadata": {},
   "source": [
    "# <u>Placeholder for 36 to 41</u>"
   ]
  },
  {
   "cell_type": "markdown",
   "metadata": {},
   "source": [
    "# Somewhat harder exercises"
   ]
  },
  {
   "cell_type": "markdown",
   "metadata": {},
   "source": [
    "#### 44. Your task in this exercise is as follows:\n",
    "#### Generate a string with N opening brackets (\"[\") and N closing brackets (\"]\"), in some arbitrary order. Determine whether the generated string is balanced; that is, whether it consists entirely of pairs of opening/closing brackets (in that order), none of which mis-nest.\n",
    "#### Examples:\n",
    "```\n",
    "[] OK ][ NOT OK\n",
    "[][] OK ][][ NOT OK\n",
    "[[][]] OK []][[] NOT OK\n",
    "```"
   ]
  },
  {
   "cell_type": "code",
   "execution_count": 39,
   "metadata": {},
   "outputs": [],
   "source": [
    "def isbalance(s):\n",
    "    stack = []\n",
    "    for letter in s:\n",
    "        if letter == \"[\":\n",
    "            stack.append(letter)\n",
    "        elif letter == \"]\": \n",
    "            if stack == []:\n",
    "                return \"NOT OK\" # ] always cancels a [. So, an empty stack is not acceptable.\n",
    "            else:\n",
    "                stack.pop()     # Popping an already pushed [\n",
    "    return \"OK\" if stack == [] else \"NOT OK\" # A balanced string ends by an empty stack\n",
    "\n",
    "assert isbalance(\"[]\") == \"OK\"\n",
    "assert isbalance(\"][\") == \"NOT OK\"\n",
    "assert isbalance(\"[][]\") == \"OK\"\n",
    "assert isbalance(\"][][\") == \"NOT OK\"\n",
    "assert isbalance(\"[[][]]\") == \"OK\"\n",
    "assert isbalance(\"[]][[]\") == \"NOT OK\"\n",
    "assert isbalance(\"[[[][[[][[[[]]]]]]][][[[[]][]][[]]]]\") == \"OK\" # A hard one!"
   ]
  }
 ],
 "metadata": {
  "kernelspec": {
   "display_name": "Python 3",
   "language": "python",
   "name": "python3"
  },
  "language_info": {
   "codemirror_mode": {
    "name": "ipython",
    "version": 3
   },
   "file_extension": ".py",
   "mimetype": "text/x-python",
   "name": "python",
   "nbconvert_exporter": "python",
   "pygments_lexer": "ipython3",
   "version": "3.6.8"
  }
 },
 "nbformat": 4,
 "nbformat_minor": 2
}
